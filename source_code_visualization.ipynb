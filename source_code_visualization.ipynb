{
  "nbformat": 4,
  "nbformat_minor": 0,
  "metadata": {
    "colab": {
      "provenance": []
    },
    "kernelspec": {
      "name": "python3",
      "display_name": "Python 3"
    },
    "language_info": {
      "name": "python"
    }
  },
  "cells": [
    {
      "cell_type": "code",
      "execution_count": 34,
      "metadata": {
        "colab": {
          "base_uri": "https://localhost:8080/"
        },
        "id": "s2qzavTe8fpm",
        "outputId": "901b5768-2924-4275-99b0-4a4f8f2878dc"
      },
      "outputs": [
        {
          "output_type": "stream",
          "name": "stdout",
          "text": [
            "Collecting kmodes\n",
            "  Downloading kmodes-0.12.2-py2.py3-none-any.whl (20 kB)\n",
            "Requirement already satisfied: numpy>=1.10.4 in /usr/local/lib/python3.10/dist-packages (from kmodes) (1.23.5)\n",
            "Requirement already satisfied: scikit-learn>=0.22.0 in /usr/local/lib/python3.10/dist-packages (from kmodes) (1.2.2)\n",
            "Requirement already satisfied: scipy>=0.13.3 in /usr/local/lib/python3.10/dist-packages (from kmodes) (1.11.4)\n",
            "Requirement already satisfied: joblib>=0.11 in /usr/local/lib/python3.10/dist-packages (from kmodes) (1.3.2)\n",
            "Requirement already satisfied: threadpoolctl>=2.0.0 in /usr/local/lib/python3.10/dist-packages (from scikit-learn>=0.22.0->kmodes) (3.2.0)\n",
            "Installing collected packages: kmodes\n",
            "Successfully installed kmodes-0.12.2\n"
          ]
        }
      ],
      "source": [
        "# !pip install matplotlib-venn\n",
        "# !apt-get -qq install -y libfluidsynth1\n",
        "!pip install kmodes\n",
        "import pandas as pd\n",
        "import numpy as np\n",
        "import matplotlib.pyplot as plt\n",
        "from kmodes.kmodes import KModes\n",
        "from sklearn.cluster import KMeans\n",
        "from sklearn.preprocessing import StandardScaler, LabelEncoder\n",
        "from sklearn.compose import ColumnTransformer\n",
        "from sklearn.pipeline import Pipeline"
      ]
    },
    {
      "cell_type": "code",
      "source": [
        "from kmodes.kprototypes import KPrototypes"
      ],
      "metadata": {
        "id": "BuZ77v3FBEek"
      },
      "execution_count": 35,
      "outputs": []
    },
    {
      "cell_type": "code",
      "source": [
        "df = pd.read_excel(\"/content/doctors_data.xlsx\")"
      ],
      "metadata": {
        "id": "zHap4Zex8uVd"
      },
      "execution_count": 5,
      "outputs": []
    },
    {
      "cell_type": "code",
      "source": [
        "df.head()"
      ],
      "metadata": {
        "colab": {
          "base_uri": "https://localhost:8080/",
          "height": 206
        },
        "id": "SRQW9u-x9iyr",
        "outputId": "2e2ba797-70c5-4f45-d3cb-34d8534dba3e"
      },
      "execution_count": 6,
      "outputs": [
        {
          "output_type": "execute_result",
          "data": {
            "text/plain": [
              "        Doctor Name                           Speciality  \\\n",
              "0       Dr A Anitha                         nephrologist   \n",
              "1       Dr A D Suri                         nephrologist   \n",
              "2  Dr A G K Gokhale  cardiothoracic and vascular surgery   \n",
              "3     Dr A Jayavelu                          neurologist   \n",
              "4    Dr A K Bardhan                         cardiologist   \n",
              "\n",
              "                                           Education  Registration No.  \\\n",
              "0     MBBS, DNB (General Medicine), DNB (Nephrology)           1835134   \n",
              "1    MBBS ,MD Medicine, DM Nephrology,DNB Nephrology           5028507   \n",
              "2  MS, MCH(CMC Vellore), DNB, SMP(IMC), Dsc(Hons)...            695708   \n",
              "3                   MD- Gen.Medicine, DM - Neurology             80374   \n",
              "4    MBBS (1971), MD (1979), Dip. Card. (1976), FCCP              4228   \n",
              "\n",
              "                    Experience                       Location  \n",
              "0  16 years experience overall          Jayanagar , Bangalore  \n",
              "1  22 years experience overall                Bhopal , Bhopal  \n",
              "2  32 years experience overall       Jubileehills , Hyderabad  \n",
              "3  21 years experience overall         Seepat Road , Bilaspur  \n",
              "4  30 years experience overall  Canal Circular Road , Kolkata  "
            ],
            "text/html": [
              "\n",
              "  <div id=\"df-e981a2ae-7eb5-42fc-9580-8ed18cd3aa1f\" class=\"colab-df-container\">\n",
              "    <div>\n",
              "<style scoped>\n",
              "    .dataframe tbody tr th:only-of-type {\n",
              "        vertical-align: middle;\n",
              "    }\n",
              "\n",
              "    .dataframe tbody tr th {\n",
              "        vertical-align: top;\n",
              "    }\n",
              "\n",
              "    .dataframe thead th {\n",
              "        text-align: right;\n",
              "    }\n",
              "</style>\n",
              "<table border=\"1\" class=\"dataframe\">\n",
              "  <thead>\n",
              "    <tr style=\"text-align: right;\">\n",
              "      <th></th>\n",
              "      <th>Doctor Name</th>\n",
              "      <th>Speciality</th>\n",
              "      <th>Education</th>\n",
              "      <th>Registration No.</th>\n",
              "      <th>Experience</th>\n",
              "      <th>Location</th>\n",
              "    </tr>\n",
              "  </thead>\n",
              "  <tbody>\n",
              "    <tr>\n",
              "      <th>0</th>\n",
              "      <td>Dr A Anitha</td>\n",
              "      <td>nephrologist</td>\n",
              "      <td>MBBS, DNB (General Medicine), DNB (Nephrology)</td>\n",
              "      <td>1835134</td>\n",
              "      <td>16 years experience overall</td>\n",
              "      <td>Jayanagar , Bangalore</td>\n",
              "    </tr>\n",
              "    <tr>\n",
              "      <th>1</th>\n",
              "      <td>Dr A D Suri</td>\n",
              "      <td>nephrologist</td>\n",
              "      <td>MBBS ,MD Medicine, DM Nephrology,DNB Nephrology</td>\n",
              "      <td>5028507</td>\n",
              "      <td>22 years experience overall</td>\n",
              "      <td>Bhopal , Bhopal</td>\n",
              "    </tr>\n",
              "    <tr>\n",
              "      <th>2</th>\n",
              "      <td>Dr A G K Gokhale</td>\n",
              "      <td>cardiothoracic and vascular surgery</td>\n",
              "      <td>MS, MCH(CMC Vellore), DNB, SMP(IMC), Dsc(Hons)...</td>\n",
              "      <td>695708</td>\n",
              "      <td>32 years experience overall</td>\n",
              "      <td>Jubileehills , Hyderabad</td>\n",
              "    </tr>\n",
              "    <tr>\n",
              "      <th>3</th>\n",
              "      <td>Dr A Jayavelu</td>\n",
              "      <td>neurologist</td>\n",
              "      <td>MD- Gen.Medicine, DM - Neurology</td>\n",
              "      <td>80374</td>\n",
              "      <td>21 years experience overall</td>\n",
              "      <td>Seepat Road , Bilaspur</td>\n",
              "    </tr>\n",
              "    <tr>\n",
              "      <th>4</th>\n",
              "      <td>Dr A K Bardhan</td>\n",
              "      <td>cardiologist</td>\n",
              "      <td>MBBS (1971), MD (1979), Dip. Card. (1976), FCCP</td>\n",
              "      <td>4228</td>\n",
              "      <td>30 years experience overall</td>\n",
              "      <td>Canal Circular Road , Kolkata</td>\n",
              "    </tr>\n",
              "  </tbody>\n",
              "</table>\n",
              "</div>\n",
              "    <div class=\"colab-df-buttons\">\n",
              "\n",
              "  <div class=\"colab-df-container\">\n",
              "    <button class=\"colab-df-convert\" onclick=\"convertToInteractive('df-e981a2ae-7eb5-42fc-9580-8ed18cd3aa1f')\"\n",
              "            title=\"Convert this dataframe to an interactive table.\"\n",
              "            style=\"display:none;\">\n",
              "\n",
              "  <svg xmlns=\"http://www.w3.org/2000/svg\" height=\"24px\" viewBox=\"0 -960 960 960\">\n",
              "    <path d=\"M120-120v-720h720v720H120Zm60-500h600v-160H180v160Zm220 220h160v-160H400v160Zm0 220h160v-160H400v160ZM180-400h160v-160H180v160Zm440 0h160v-160H620v160ZM180-180h160v-160H180v160Zm440 0h160v-160H620v160Z\"/>\n",
              "  </svg>\n",
              "    </button>\n",
              "\n",
              "  <style>\n",
              "    .colab-df-container {\n",
              "      display:flex;\n",
              "      gap: 12px;\n",
              "    }\n",
              "\n",
              "    .colab-df-convert {\n",
              "      background-color: #E8F0FE;\n",
              "      border: none;\n",
              "      border-radius: 50%;\n",
              "      cursor: pointer;\n",
              "      display: none;\n",
              "      fill: #1967D2;\n",
              "      height: 32px;\n",
              "      padding: 0 0 0 0;\n",
              "      width: 32px;\n",
              "    }\n",
              "\n",
              "    .colab-df-convert:hover {\n",
              "      background-color: #E2EBFA;\n",
              "      box-shadow: 0px 1px 2px rgba(60, 64, 67, 0.3), 0px 1px 3px 1px rgba(60, 64, 67, 0.15);\n",
              "      fill: #174EA6;\n",
              "    }\n",
              "\n",
              "    .colab-df-buttons div {\n",
              "      margin-bottom: 4px;\n",
              "    }\n",
              "\n",
              "    [theme=dark] .colab-df-convert {\n",
              "      background-color: #3B4455;\n",
              "      fill: #D2E3FC;\n",
              "    }\n",
              "\n",
              "    [theme=dark] .colab-df-convert:hover {\n",
              "      background-color: #434B5C;\n",
              "      box-shadow: 0px 1px 3px 1px rgba(0, 0, 0, 0.15);\n",
              "      filter: drop-shadow(0px 1px 2px rgba(0, 0, 0, 0.3));\n",
              "      fill: #FFFFFF;\n",
              "    }\n",
              "  </style>\n",
              "\n",
              "    <script>\n",
              "      const buttonEl =\n",
              "        document.querySelector('#df-e981a2ae-7eb5-42fc-9580-8ed18cd3aa1f button.colab-df-convert');\n",
              "      buttonEl.style.display =\n",
              "        google.colab.kernel.accessAllowed ? 'block' : 'none';\n",
              "\n",
              "      async function convertToInteractive(key) {\n",
              "        const element = document.querySelector('#df-e981a2ae-7eb5-42fc-9580-8ed18cd3aa1f');\n",
              "        const dataTable =\n",
              "          await google.colab.kernel.invokeFunction('convertToInteractive',\n",
              "                                                    [key], {});\n",
              "        if (!dataTable) return;\n",
              "\n",
              "        const docLinkHtml = 'Like what you see? Visit the ' +\n",
              "          '<a target=\"_blank\" href=https://colab.research.google.com/notebooks/data_table.ipynb>data table notebook</a>'\n",
              "          + ' to learn more about interactive tables.';\n",
              "        element.innerHTML = '';\n",
              "        dataTable['output_type'] = 'display_data';\n",
              "        await google.colab.output.renderOutput(dataTable, element);\n",
              "        const docLink = document.createElement('div');\n",
              "        docLink.innerHTML = docLinkHtml;\n",
              "        element.appendChild(docLink);\n",
              "      }\n",
              "    </script>\n",
              "  </div>\n",
              "\n",
              "\n",
              "<div id=\"df-a30eab3d-cf72-43b6-83b5-734e82cf971b\">\n",
              "  <button class=\"colab-df-quickchart\" onclick=\"quickchart('df-a30eab3d-cf72-43b6-83b5-734e82cf971b')\"\n",
              "            title=\"Suggest charts\"\n",
              "            style=\"display:none;\">\n",
              "\n",
              "<svg xmlns=\"http://www.w3.org/2000/svg\" height=\"24px\"viewBox=\"0 0 24 24\"\n",
              "     width=\"24px\">\n",
              "    <g>\n",
              "        <path d=\"M19 3H5c-1.1 0-2 .9-2 2v14c0 1.1.9 2 2 2h14c1.1 0 2-.9 2-2V5c0-1.1-.9-2-2-2zM9 17H7v-7h2v7zm4 0h-2V7h2v10zm4 0h-2v-4h2v4z\"/>\n",
              "    </g>\n",
              "</svg>\n",
              "  </button>\n",
              "\n",
              "<style>\n",
              "  .colab-df-quickchart {\n",
              "      --bg-color: #E8F0FE;\n",
              "      --fill-color: #1967D2;\n",
              "      --hover-bg-color: #E2EBFA;\n",
              "      --hover-fill-color: #174EA6;\n",
              "      --disabled-fill-color: #AAA;\n",
              "      --disabled-bg-color: #DDD;\n",
              "  }\n",
              "\n",
              "  [theme=dark] .colab-df-quickchart {\n",
              "      --bg-color: #3B4455;\n",
              "      --fill-color: #D2E3FC;\n",
              "      --hover-bg-color: #434B5C;\n",
              "      --hover-fill-color: #FFFFFF;\n",
              "      --disabled-bg-color: #3B4455;\n",
              "      --disabled-fill-color: #666;\n",
              "  }\n",
              "\n",
              "  .colab-df-quickchart {\n",
              "    background-color: var(--bg-color);\n",
              "    border: none;\n",
              "    border-radius: 50%;\n",
              "    cursor: pointer;\n",
              "    display: none;\n",
              "    fill: var(--fill-color);\n",
              "    height: 32px;\n",
              "    padding: 0;\n",
              "    width: 32px;\n",
              "  }\n",
              "\n",
              "  .colab-df-quickchart:hover {\n",
              "    background-color: var(--hover-bg-color);\n",
              "    box-shadow: 0 1px 2px rgba(60, 64, 67, 0.3), 0 1px 3px 1px rgba(60, 64, 67, 0.15);\n",
              "    fill: var(--button-hover-fill-color);\n",
              "  }\n",
              "\n",
              "  .colab-df-quickchart-complete:disabled,\n",
              "  .colab-df-quickchart-complete:disabled:hover {\n",
              "    background-color: var(--disabled-bg-color);\n",
              "    fill: var(--disabled-fill-color);\n",
              "    box-shadow: none;\n",
              "  }\n",
              "\n",
              "  .colab-df-spinner {\n",
              "    border: 2px solid var(--fill-color);\n",
              "    border-color: transparent;\n",
              "    border-bottom-color: var(--fill-color);\n",
              "    animation:\n",
              "      spin 1s steps(1) infinite;\n",
              "  }\n",
              "\n",
              "  @keyframes spin {\n",
              "    0% {\n",
              "      border-color: transparent;\n",
              "      border-bottom-color: var(--fill-color);\n",
              "      border-left-color: var(--fill-color);\n",
              "    }\n",
              "    20% {\n",
              "      border-color: transparent;\n",
              "      border-left-color: var(--fill-color);\n",
              "      border-top-color: var(--fill-color);\n",
              "    }\n",
              "    30% {\n",
              "      border-color: transparent;\n",
              "      border-left-color: var(--fill-color);\n",
              "      border-top-color: var(--fill-color);\n",
              "      border-right-color: var(--fill-color);\n",
              "    }\n",
              "    40% {\n",
              "      border-color: transparent;\n",
              "      border-right-color: var(--fill-color);\n",
              "      border-top-color: var(--fill-color);\n",
              "    }\n",
              "    60% {\n",
              "      border-color: transparent;\n",
              "      border-right-color: var(--fill-color);\n",
              "    }\n",
              "    80% {\n",
              "      border-color: transparent;\n",
              "      border-right-color: var(--fill-color);\n",
              "      border-bottom-color: var(--fill-color);\n",
              "    }\n",
              "    90% {\n",
              "      border-color: transparent;\n",
              "      border-bottom-color: var(--fill-color);\n",
              "    }\n",
              "  }\n",
              "</style>\n",
              "\n",
              "  <script>\n",
              "    async function quickchart(key) {\n",
              "      const quickchartButtonEl =\n",
              "        document.querySelector('#' + key + ' button');\n",
              "      quickchartButtonEl.disabled = true;  // To prevent multiple clicks.\n",
              "      quickchartButtonEl.classList.add('colab-df-spinner');\n",
              "      try {\n",
              "        const charts = await google.colab.kernel.invokeFunction(\n",
              "            'suggestCharts', [key], {});\n",
              "      } catch (error) {\n",
              "        console.error('Error during call to suggestCharts:', error);\n",
              "      }\n",
              "      quickchartButtonEl.classList.remove('colab-df-spinner');\n",
              "      quickchartButtonEl.classList.add('colab-df-quickchart-complete');\n",
              "    }\n",
              "    (() => {\n",
              "      let quickchartButtonEl =\n",
              "        document.querySelector('#df-a30eab3d-cf72-43b6-83b5-734e82cf971b button');\n",
              "      quickchartButtonEl.style.display =\n",
              "        google.colab.kernel.accessAllowed ? 'block' : 'none';\n",
              "    })();\n",
              "  </script>\n",
              "</div>\n",
              "    </div>\n",
              "  </div>\n"
            ]
          },
          "metadata": {},
          "execution_count": 6
        }
      ]
    },
    {
      "cell_type": "code",
      "source": [
        "# Identify categorical columns\n",
        "categorical_cols = df.select_dtypes(include=['object']).columns"
      ],
      "metadata": {
        "id": "aQus7Db69rTB"
      },
      "execution_count": 7,
      "outputs": []
    },
    {
      "cell_type": "code",
      "source": [
        "# Use LabelEncoder to convert categorical columns to numerical values\n",
        "le = LabelEncoder()\n",
        "\n",
        "for col in categorical_cols:\n",
        "    df[col] = le.fit_transform(df[col])"
      ],
      "metadata": {
        "id": "Rb_v6so89y4Q"
      },
      "execution_count": 10,
      "outputs": []
    },
    {
      "cell_type": "code",
      "source": [
        "# Select features for clustering\n",
        "features_for_clustering = df[[\"Doctor Name\", \"Speciality\", \"Education\", \"Registration No.\", \"Experience\", \"Location\"]]\n"
      ],
      "metadata": {
        "id": "lgMAhuPj92z9"
      },
      "execution_count": 11,
      "outputs": []
    },
    {
      "cell_type": "code",
      "source": [
        "# Standardize numerical features\n",
        "numeric_cols = [\"Registration No.\", \"Experience\"]\n",
        "numeric_transformer = Pipeline(steps=[\n",
        "    ('scaler', StandardScaler())\n",
        "])\n"
      ],
      "metadata": {
        "id": "hpfZL6vT-Dly"
      },
      "execution_count": 12,
      "outputs": []
    },
    {
      "cell_type": "code",
      "source": [
        "# Combine transformers\n",
        "preprocessor = ColumnTransformer(\n",
        "    transformers=[\n",
        "        ('num', numeric_transformer, numeric_cols)\n",
        "    ])\n"
      ],
      "metadata": {
        "id": "mf0ieB0c-Enk"
      },
      "execution_count": 13,
      "outputs": []
    },
    {
      "cell_type": "code",
      "source": [
        "# Apply K-means clustering\n",
        "kmeans = KMeans(n_clusters=3, random_state=42)\n"
      ],
      "metadata": {
        "id": "S_ZvNEAA-EoB"
      },
      "execution_count": 14,
      "outputs": []
    },
    {
      "cell_type": "code",
      "source": [
        "# Create a pipeline for preprocessing and clustering\n",
        "kmeans_pipeline = Pipeline(steps=[\n",
        "    ('preprocessor', preprocessor),\n",
        "    ('kmeans', kmeans)\n",
        "])"
      ],
      "metadata": {
        "id": "StCej1wg-M-O"
      },
      "execution_count": 15,
      "outputs": []
    },
    {
      "cell_type": "code",
      "source": [
        "#Apply k-modes clustering\n",
        "kmodes = KModes(n_clusters=3, init='Huang', n_init=5, verbose=1, random_state=42)"
      ],
      "metadata": {
        "id": "k8LcVZUl-M-w"
      },
      "execution_count": 36,
      "outputs": []
    },
    {
      "cell_type": "code",
      "source": [
        "# Create a pipeline for preprocessing and clustering\n",
        "kmodes_pipeline = Pipeline(steps=[\n",
        "    ('preprocessor', preprocessor),\n",
        "    ('kmodes', kmodes)\n",
        "])"
      ],
      "metadata": {
        "id": "AEt5Kg_k-YeD"
      },
      "execution_count": 37,
      "outputs": []
    },
    {
      "cell_type": "code",
      "source": [
        "# Fit and predict\n",
        "df['kmeans_Cluster'] = kmeans_pipeline.fit_predict(features_for_clustering)\n",
        "df['kmodes_Cluster'] = kmodes_pipeline.fit_predict(features_for_clustering)\n"
      ],
      "metadata": {
        "colab": {
          "base_uri": "https://localhost:8080/"
        },
        "id": "MD1csK3lDKSD",
        "outputId": "c788bd08-d350-4557-860a-e88446ab9819"
      },
      "execution_count": 40,
      "outputs": [
        {
          "output_type": "stream",
          "name": "stderr",
          "text": [
            "/usr/local/lib/python3.10/dist-packages/sklearn/cluster/_kmeans.py:870: FutureWarning: The default value of `n_init` will change from 10 to 'auto' in 1.4. Set the value of `n_init` explicitly to suppress the warning\n",
            "  warnings.warn(\n"
          ]
        },
        {
          "output_type": "stream",
          "name": "stdout",
          "text": [
            "Init: initializing centroids\n",
            "Init: initializing clusters\n",
            "Starting iterations...\n",
            "Run 1, iteration: 1/100, moves: 0, cost: 171.0\n",
            "Init: initializing centroids\n",
            "Init: initializing clusters\n",
            "Starting iterations...\n",
            "Run 2, iteration: 1/100, moves: 0, cost: 169.0\n",
            "Init: initializing centroids\n",
            "Init: initializing clusters\n",
            "Starting iterations...\n",
            "Run 3, iteration: 1/100, moves: 8, cost: 171.0\n",
            "Init: initializing centroids\n",
            "Init: initializing clusters\n",
            "Starting iterations...\n",
            "Run 4, iteration: 1/100, moves: 0, cost: 173.0\n",
            "Init: initializing centroids\n",
            "Init: initializing clusters\n",
            "Starting iterations...\n",
            "Run 5, iteration: 1/100, moves: 0, cost: 176.0\n",
            "Best run was number 2\n"
          ]
        }
      ]
    },
    {
      "cell_type": "code",
      "source": [
        "# Display the clustered data\n",
        "print(\"\\nClustered Data:\")\n",
        "print(df.head())"
      ],
      "metadata": {
        "colab": {
          "base_uri": "https://localhost:8080/"
        },
        "id": "GfAXFE39DZbZ",
        "outputId": "225fff90-651e-47f6-b0b9-d419b345c7fa"
      },
      "execution_count": 41,
      "outputs": [
        {
          "output_type": "stream",
          "name": "stdout",
          "text": [
            "\n",
            "Clustered Data:\n",
            "   Doctor Name  Speciality  Education  Registration No.  Experience  Location  \\\n",
            "0            0          17         23           1835134           6        13   \n",
            "1            1          17         16           5028507          13         3   \n",
            "2            2           2         69            695708          20        14   \n",
            "3            3          18         62             80374          12        27   \n",
            "4            4           1         14              4228          18         4   \n",
            "\n",
            "   kmeans_Cluster  kmodes_Cluster  \n",
            "0               2               0  \n",
            "1               0               0  \n",
            "2               2               0  \n",
            "3               2               0  \n",
            "4               2               0  \n"
          ]
        }
      ]
    },
    {
      "cell_type": "code",
      "source": [
        "# Visualization example: Scatter plot\n",
        "plt.scatter(df['Speciality'], df['Location'])\n",
        "plt.title('Scatter Plot of Speciality vs Location')\n",
        "plt.xlabel('Speciality')\n",
        "plt.ylabel('Location')\n",
        "plt.show()"
      ],
      "metadata": {
        "colab": {
          "base_uri": "https://localhost:8080/",
          "height": 472
        },
        "id": "G8HCNXZEDZb9",
        "outputId": "54c06e89-d3ab-4b86-c865-3d7478f81141"
      },
      "execution_count": 47,
      "outputs": [
        {
          "output_type": "display_data",
          "data": {
            "text/plain": [
              "<Figure size 640x480 with 1 Axes>"
            ],
            "image/png": "[encoded data removed]"
          },
          "metadata": {}
        }
      ]
    },
    {
      "cell_type": "code",
      "source": [
        "# Visualization example: Histogram\n",
        "plt.hist(df['Speciality'], bins=20, color='skyblue', edgecolor='black')\n",
        "plt.title('Histogram of Speciality')\n",
        "plt.xlabel('Speciality')\n",
        "plt.ylabel('Location')\n",
        "plt.show()"
      ],
      "metadata": {
        "colab": {
          "base_uri": "https://localhost:8080/",
          "height": 472
        },
        "id": "tvdvCocqDiPr",
        "outputId": "f02535eb-8db9-47ea-aded-e4edfdd317a1"
      },
      "execution_count": 46,
      "outputs": [
        {
          "output_type": "display_data",
          "data": {
            "text/plain": [
              "<Figure size 640x480 with 1 Axes>"
            ],
            "image/png": "[encoded data removed]"
          },
          "metadata": {}
        }
      ]
    },
    {
      "cell_type": "code",
      "source": [],
      "metadata": {
        "id": "IgaT_I1mDiQV"
      },
      "execution_count": null,
      "outputs": []
    },
    {
      "cell_type": "code",
      "source": [
        "# __int__.py\n",
        "import pandas as pd\n",
        "import numpy as np\n",
        "import matplotlib.pyplot as plt\n",
        "from kmodes.kmodes import KModes\n",
        "from sklearn.cluster import KMeans\n",
        "from sklearn.preprocessing import StandardScaler, LabelEncoder\n",
        "from sklearn.compose import ColumnTransformer\n",
        "from sklearn.pipeline import Pipeline"
      ],
      "metadata": {
        "id": "Gq9sV7mC-tAT"
      },
      "execution_count": 48,
      "outputs": []
    },
    {
      "cell_type": "code",
      "source": [
        "# Doctor_visualization.py\n",
        "\n",
        "\n",
        "class Visualization:\n",
        "  def scatter_plot_vis(column1,column2):\n",
        "    plt.scatter(df[column1], df[column2])\n",
        "    plt.title('Scatter Plot of '+column1+' vs '+column2+'')\n",
        "    plt.xlabel(column1)\n",
        "    plt.ylabel(column2)\n",
        "    plt.show()\n",
        "    \"\"\"\n",
        "    Encodes categorical columns in a DataFrame using LabelEncoder.\n",
        "\n",
        "    Parameters:\n",
        "    - df (pandas.DataFrame): The input DataFrame containing categorical columns to be encoded.\n",
        "\n",
        "    Returns:\n",
        "    - pandas.DataFrame: A new DataFrame with encoded numerical values for categorical columns.\n",
        "\n",
        "    \"\"\"\n",
        "\n",
        "\n",
        "  def histogram_vis(column1,column2):\n",
        "    plt.hist(df[column1], bins=20, color='skyblue', edgecolor='black')\n",
        "    plt.title('hisogram  Plot of '+column1+' and '+column2+'')\n",
        "    plt.xlabel(column1)\n",
        "    plt.ylabel(column2)\n",
        "    plt.show()\n",
        "\n",
        "    \"\"\"\n",
        "    Creates and displays a histogram plot for two columns in a DataFrame.\n",
        "\n",
        "    Parameters:\n",
        "    - column1 (str): Name of the first column for the histogram.\n",
        "    - column2 (str): Name of the second column for the histogram.\n",
        "\n",
        "    Returns:\n",
        "    - None\n",
        "\n",
        "    \"\"\"\n"
      ],
      "metadata": {
        "id": "1G8o0UuzGdT5"
      },
      "execution_count": 49,
      "outputs": []
    },
    {
      "cell_type": "code",
      "source": [
        "# Doctor_clustering.py\n",
        "\n",
        "#from Doctor_visualization import Visualization\n",
        "\n",
        "\n",
        "class Clustering:\n",
        "  def cluster_features(*column_names):\n",
        "    # Select features for clustering\n",
        "    features_for_clustering = df[column_names]\n",
        "    return features_for_clustering\n",
        "\n",
        "    \"\"\"\n",
        "    Selects specific columns from a DataFrame for clustering.\n",
        "\n",
        "    Parameters:\n",
        "    - *column_names (str): Variable-length argument list of column names to be selected for clustering.\n",
        "\n",
        "    Returns:\n",
        "    - pandas.DataFrame: Subset of the DataFrame containing only the specified columns.\n",
        "\n",
        "\n",
        "    \"\"\"\n",
        "\n",
        "  def category_column_encoding(df):\n",
        "    # Identify categorical columns\n",
        "    categorical_cols = df.select_dtypes(include=['object']).columns\n",
        "    # Use LabelEncoder to convert categorical columns to numerical values\n",
        "    le = LabelEncoder()\n",
        "    for col in categorical_cols:\n",
        "        df[col] = le.fit_transform(df[col])\n",
        "    return df\n",
        "    \"\"\"\n",
        "    Encodes categorical columns in a DataFrame using LabelEncoder.\n",
        "\n",
        "    Parameters:\n",
        "    - df (pandas.DataFrame): The input DataFrame containing categorical columns to be encoded.\n",
        "\n",
        "    Returns:\n",
        "    - pandas.DataFrame: A new DataFrame with encoded numerical values for categorical columns.\n",
        "\n",
        "\n",
        "    \"\"\"\n",
        "\n",
        "  def numerical_column_scaling(df, *num_cols):\n",
        "    # Standardize numerical features\n",
        "    numeric_cols = num_cols\n",
        "    numeric_transformer = Pipeline(steps=[\n",
        "        ('scaler', StandardScaler())\n",
        "    ])\n",
        "    return numeric_transformer, numeric_cols\n",
        "    \"\"\"\n",
        "    Applies numerical column scaling to specified columns in a DataFrame.\n",
        "\n",
        "    Parameters:\n",
        "    - df (pandas.DataFrame): The input DataFrame containing numerical columns to be scaled.\n",
        "    - *num_cols (str): Variable-length argument list of numerical column names to be scaled.\n",
        "\n",
        "    Returns:\n",
        "    - sklearn.compose.ColumnTransformer: A ColumnTransformer object configured for numerical scaling.\n",
        "    - list: List of numerical column names specified for scaling.\n",
        "\n",
        "    \"\"\"\n",
        "\n",
        "  def data_transform (numeric_transformer, numeric_cols):\n",
        "    # Combine transformers\n",
        "    preprocessor = ColumnTransformer(\n",
        "    transformers=[\n",
        "        ('num', numeric_transformer, numeric_cols)\n",
        "    ])\n",
        "    return preprocessor\n",
        "    \"\"\"\n",
        "    Applies data transformation using a pre-defined numeric transformer on specified columns.\n",
        "\n",
        "    Parameters:\n",
        "    - numeric_transformer (sklearn.pipeline.Pipeline): Pre-defined numeric transformer for scaling.\n",
        "    - numeric_cols (list): List of numerical column names to be transformed.\n",
        "\n",
        "    Returns:\n",
        "    - sklearn.compose.ColumnTransformer: A ColumnTransformer object configured for data transformation.\n",
        "\n",
        "    \"\"\"\n",
        "\n",
        "  def kmeans_clustering (preprocessor):\n",
        "    # Apply K-means clustering\n",
        "    kmeans = KMeans(n_clusters=3, random_state=42)\n",
        "    # Create a pipeline for preprocessing and clustering\n",
        "    kmeans_pipeline = Pipeline(steps=[\n",
        "        ('preprocessor', preprocessor),\n",
        "        ('kmeans', kmeans)\n",
        "    ])\n",
        "    return kmeans_pipeline\n",
        "    \"\"\"\n",
        "    Applies K-means clustering on pre-processed data using a specified preprocessor.\n",
        "\n",
        "    Parameters:\n",
        "    - preprocessor (sklearn.compose.ColumnTransformer): Preprocessor for data transformation.\n",
        "\n",
        "    Returns:\n",
        "    - sklearn.pipeline.Pipeline: A pipeline combining the preprocessor and K-means clustering.\n",
        "\n",
        "    \"\"\"\n",
        "\n",
        "  def kmodes_clustering(preprocessor):\n",
        "    #Apply k-modes clustering\n",
        "    kmodes = KModes(n_clusters=3, init='Huang', n_init=5, verbose=1, random_state=42)\n",
        "    # Create a pipeline for preprocessing and clustering\n",
        "    kmodes_pipeline = Pipeline(steps=[\n",
        "        ('preprocessor', preprocessor),\n",
        "        ('kmodes', kmodes)\n",
        "    ])\n",
        "    return kmodes_pipeline\n",
        "    \"\"\"\n",
        "    Applies K-Modes clustering on pre-processed data using a specified preprocessor.\n",
        "\n",
        "    Parameters:\n",
        "    - preprocessor (sklearn.compose.ColumnTransformer): Preprocessor for data transformation.\n",
        "\n",
        "    Returns:\n",
        "    - sklearn.pipeline.Pipeline: A pipeline combining the preprocessor and K-Modes clustering.\n",
        "\n",
        "    \"\"\"\n",
        "\n",
        "  def clusters_fit_predict(df, kmeans_pipeline,kmodes_pipeline, features_for_clustering):\n",
        "    # Fit and predict\n",
        "    df['kmeans_Cluster'] = kmeans_pipeline.fit_predict(features_for_clustering)\n",
        "    df['kmodes_Cluster'] = kmodes_pipeline.fit_predict(features_for_clustering)\n",
        "    return df\n",
        "    \"\"\"\n",
        "    Fits and predicts clusters using K-means and K-Modes pipelines on specified features.\n",
        "\n",
        "    Parameters:\n",
        "    - df (pandas.DataFrame): The input DataFrame.\n",
        "    - kmeans_pipeline (sklearn.pipeline.Pipeline): Pipeline for K-means clustering.\n",
        "    - kmodes_pipeline (sklearn.pipeline.Pipeline): Pipeline for K-Modes clustering.\n",
        "    - features_for_clustering (pandas.DataFrame): Subset of DataFrame containing features for clustering.\n",
        "\n",
        "    Returns:\n",
        "    - pandas.DataFrame: The input DataFrame with additional columns for K-means and K-Modes cluster labels.\n",
        "\n",
        "    \"\"\"\n",
        "\n",
        "#read_file here\n",
        "df = pd.read_excel(\"/content/doctors_data.xlsx\")\n",
        "\n",
        "cluster_object = Clustering()\n",
        "column_list = [\"Doctor Name\", \"Speciality\", \"Education\", \"Registration No.\", \"Experience\", \"Location\"]\n",
        "features_for_clustering = cluster_object.cluster_features(column_list)\n",
        "df = cluster_object.category_column_encoding(df)\n",
        "num_cols = [\"Registration No.\", \"Experience\"]\n",
        "numeric_transformer, numeric_cols = cluster_object.numerical_column_scaling(df,)\n",
        "preprocessor = cluster_object.data_transform(numeric_transformer, numeric_cols)\n",
        "kmeans_pipeline = cluster_object.kmeans_clustering(preprocessor)\n",
        "kmodes_pipeline = cluster_object.kmodes_clustering(preprocessor)\n",
        "df = cluster_object.clusters_fit_predict(df, kmeans_pipeline,kmodes_pipeline, features_for_clustering)\n",
        "\n",
        "visual_object = Visualization()\n",
        "visual_object.scatter_plot_vis('Speciality','Location')\n",
        "visual_object.histogram_vis('Speciality','Location')\n",
        "\n",
        "\n"
      ],
      "metadata": {
        "id": "SSZ9H06WGuO7"
      },
      "execution_count": null,
      "outputs": []
    },
    {
      "cell_type": "code",
      "source": [],
      "metadata": {
        "id": "bX2etxxDJogD"
      },
      "execution_count": null,
      "outputs": []
    },
    {
      "cell_type": "code",
      "source": [],
      "metadata": {
        "id": "5YjTj0wbJogh"
      },
      "execution_count": null,
      "outputs": []
    },
    {
      "cell_type": "code",
      "source": [],
      "metadata": {
        "id": "N_OidK8IJo7Q"
      },
      "execution_count": null,
      "outputs": []
    },
    {
      "cell_type": "code",
      "source": [],
      "metadata": {
        "id": "os0JEOxJJpAa"
      },
      "execution_count": null,
      "outputs": []
    }
  ]
}